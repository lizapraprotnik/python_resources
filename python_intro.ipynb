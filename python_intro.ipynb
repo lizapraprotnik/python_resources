{
 "cells": [
  {
   "cell_type": "markdown",
   "metadata": {},
   "source": [
    "#Welcome to Jupyter Notebook!\n"
   ]
  },
  {
   "cell_type": "markdown",
   "metadata": {},
   "source": [
    "This notebook has an overview of the following concepts in Python:\n",
    "* Data types\n",
    "* Basic syntax\n",
    "* Function definitions and parameters\n",
    "* Iterations"
   ]
  },
  {
   "cell_type": "markdown",
   "metadata": {},
   "source": [
    "There are different ways of working with Python. You can write code directly into the terminal in an [interactive session](https://en.wikibooks.org/wiki/Python_Programming/Interactive_mode), write programs using a text editor like [Sublime text](https://sublimetext.com/2), or use an Jupyter notebook like this one.\n",
    "\n",
    "[Jupyter](http://jupyter.org/) is a set of tools designed with scientific programming in mind. The notebook allows you to run prewritten code and create equations, graphs, and text blocks.\n",
    "\n",
    "Jupyter notebooks are divided into groups of text or code called \"cells.\" This is a text cell, where you can write explanatory text or format equations using a markup language called [Markdown](https://github.com/adam-p/markdown-here/wiki/Markdown-Cheatsheet). To edit a text cell:\n",
    "* Double click to modify it.\n",
    "* Press Shift+Enter to \"run\" the cell.\n",
    "\n",
    "Go ahead and practice on this text cell. **Add your name here:** [YOUR NAME HERE]\n",
    "\n",
    "To save any changes you make, go to File -> \"Save and Checkpoint\"."
   ]
  },
  {
   "cell_type": "markdown",
   "metadata": {},
   "source": [
    "Below is a code cell with a few lines of Python. To edit a code cell, simply start typing in the cell. To run the code within the cell, select the cell and press Shift+Enter. Try running the cell below!"
   ]
  },
  {
   "cell_type": "code",
   "execution_count": null,
   "metadata": {
    "collapsed": false
   },
   "outputs": [],
   "source": [
    "# I am a code cell!\n",
    "def hello():\n",
    "    print(\"Hello World!\")\n",
    "\n",
    "hello()"
   ]
  },
  {
   "cell_type": "markdown",
   "metadata": {},
   "source": [
    "This is a simple Python function that, when called, prints \"Hello World!\" to the screen. Don't worry about the syntax just yet; we'll get to that soon. For now, check out a more in-depth example below of what you can do in Jupyter."
   ]
  },
  {
   "cell_type": "markdown",
   "metadata": {},
   "source": [
    "###Python for Data Analysis and Visualization"
   ]
  },
  {
   "cell_type": "markdown",
   "metadata": {},
   "source": [
    "As we talked about last week, Python is a great language for processing large sets of data and displaying results in a meaningful way. Generally, Python programs can be written more quickly and in fewer lines of code than equivalent programs in a language like Java or C. It also has extensive libraries dedicated to making data analysis easier.\n",
    "\n",
    "We included a quick example of something you can do in Jupyter notebook so that you could get a taste of all of its possibilities. Below is code for a basic plot in Python, using common libraries numpy and matplotlib. We will learn more about these libraries in weeks to come."
   ]
  },
  {
   "cell_type": "code",
   "execution_count": null,
   "metadata": {
    "collapsed": false
   },
   "outputs": [],
   "source": [
    "%pylab inline\n",
    "import numpy as np\n",
    "import matplotlib.pyplot as plt\n",
    "x = np.linspace(0, 3*np.pi, 500)\n",
    "plt.plot(x, np.sin(x**2))\n",
    "plt.title('A basic plot')\n",
    "plt.show()"
   ]
  },
  {
   "cell_type": "markdown",
   "metadata": {},
   "source": [
    "#Data Types\n",
    "\n",
    "In every programming language, there are built-in data types to handle different forms of information. For example, in Python, some very common types are strings, integers, floats, booleans, and lists."
   ]
  },
  {
   "cell_type": "markdown",
   "metadata": {},
   "source": [
    "###Strings\n",
    "Strings are used to represent text, and are declared with quotation marks. Below, a variable is set to an empty string called your_name. Fill in your name, and then run the cell to see Python `print` it out, or display it below."
   ]
  },
  {
   "cell_type": "code",
   "execution_count": null,
   "metadata": {
    "collapsed": false
   },
   "outputs": [],
   "source": [
    "your_name = \"\"\n",
    "print(your_name)"
   ]
  },
  {
   "cell_type": "markdown",
   "metadata": {},
   "source": [
    "###Integers\n",
    "An integer, or an \"int\" in Python, represents whole a number. Integers are used in Python just as they are in plain math. Below, a variable your_lucky_number is set to 0. Fill in your lucky number, and then run the cell to see Python `print` it out."
   ]
  },
  {
   "cell_type": "code",
   "execution_count": null,
   "metadata": {
    "collapsed": false
   },
   "outputs": [],
   "source": [
    "your_lucky_number = 0\n",
    "print(your_lucky_number)"
   ]
  },
  {
   "cell_type": "markdown",
   "metadata": {},
   "source": [
    "It makes sense to treat these data types differently, because certain operations cannot apply to all types of data. For example, you cannot take the square root of a sentence. Python protects against user errors such as this by throwing a `TypeError`. Run the code block below to see what we mean."
   ]
  },
  {
   "cell_type": "code",
   "execution_count": null,
   "metadata": {
    "collapsed": false
   },
   "outputs": [],
   "source": [
    "import math\n",
    "math.sqrt(\"Hello world!\")"
   ]
  },
  {
   "cell_type": "markdown",
   "metadata": {},
   "source": [
    "###Floats\n",
    "You might have noticed that the TypeError above reported that \"`a float is required`\" for the square root function. Floats represent numbers, but unlike integers, floats don't have to be whole numbers. Below are some examples of floats."
   ]
  },
  {
   "cell_type": "code",
   "execution_count": null,
   "metadata": {
    "collapsed": false
   },
   "outputs": [],
   "source": [
    "first_float = 3\n",
    "print(first_float)\n",
    "\n",
    "second_float = 2/3\n",
    "print(second_float)\n",
    "\n",
    "third_float = 19.5\n",
    "print(third_float)"
   ]
  },
  {
   "cell_type": "markdown",
   "metadata": {},
   "source": [
    "###Booleans\n",
    "Another very useful data type in computer science is a \"boolean.\" Booleans represent `True` or `False` values. For example, the value `(6 > 5)` or \"6 is greater than 5\" is true. If we instead said `(6 > 7)`, we would have a false value. It is useful to determine true or false values to help computers make decisions about what to do.\n",
    "\n",
    "As you may have noticed above, to set variables, we say \"'variable name' = 'variable value'.\" Because the equals sign serves the function of setting variables, we cannot also use it to compare two values. If we want to see if two values are equal, we instead use a double equals sign, or \"==\". This is demonstrated in the code block below. Run it to see how Python represents `True` or `False` values."
   ]
  },
  {
   "cell_type": "code",
   "execution_count": null,
   "metadata": {
    "collapsed": false
   },
   "outputs": [],
   "source": [
    "value_1 = 6 > 5\n",
    "print(\"6 > 5 evaluates to: \" + str(value_1))\n",
    "\n",
    "value_2 = 6 > 7\n",
    "print(\"6 > 7 evaluates to: \" + str(value_2))\n",
    "\n",
    "value_3 = True\n",
    "print(\"True evaluates to: \" + str(value_3))\n",
    "\n",
    "value_4 = False\n",
    "print(\"False evaluates to: \" + str(value_4))\n",
    "\n",
    "value_5 = value_1 == value_2\n",
    "print(\"value_1 == value_2 evaluates to: \" + str(value_5))\n",
    "\n",
    "value_6 = value_1 == value_1\n",
    "print(\"value_1 == value_1 evaluates to: \" + str(value_6))"
   ]
  },
  {
   "cell_type": "markdown",
   "metadata": {},
   "source": [
    "###Lists\n",
    "It can often be useful to store a list of objects in a program. Python has a built-in list data type that does just that. To denote a list in Python, we use square brackets. We will learn more about using lists soon. Fill out the list below with the names of three people next to you."
   ]
  },
  {
   "cell_type": "code",
   "execution_count": null,
   "metadata": {
    "collapsed": false
   },
   "outputs": [],
   "source": [
    "new_friends = [\"\", \"\", \"\"]\n",
    "print(new_friends)"
   ]
  },
  {
   "cell_type": "markdown",
   "metadata": {},
   "source": [
    "###None\n",
    "In many cases, it makes sense to have a value meaning \"nothing.\" In many programming languages, that value is called \"`NULL`.\" Because Python is so close to English, the value for nothing is actually \"`None`.\" Conceptually, it seems a little weird to have a value for nothing, but its functionality will become clear later on.\n",
    "\n",
    "`None` works differently than an empty string or 0, because unlike an empty string or 0, it doesn't really have a type. To see what `None` looks like, `print` it out below."
   ]
  },
  {
   "cell_type": "code",
   "execution_count": null,
   "metadata": {
    "collapsed": false
   },
   "outputs": [],
   "source": [
    "nothing = None\n",
    "print(nothing)"
   ]
  },
  {
   "cell_type": "markdown",
   "metadata": {},
   "source": [
    "You may have expected to see a blank line. The reason Python's designers chose to print \"`None`\" out is to make debugging easier. Often times, if a program is failing, programmers will use `print` statements (like the ones we used above) to debug their code. If a program is failing because it is trying to operate on nothing, it can be helpful to realize this by printing it out."
   ]
  },
  {
   "cell_type": "markdown",
   "metadata": {},
   "source": [
    "###Type Conversion\n",
    "In some cases, we need to be able to convert values from one type to another. For example, if I am trying to create a string using some integer variable inside a string of text, I need to be able to substitute in the number value. In order to do this, I need to convert my integer to a string. We do this by putting the variable in a type conversion function. For more info, check out [this link](http://www.pitt.edu/~naraehan/python2/data_types_conversion.html). Run the code block below to see an example."
   ]
  },
  {
   "cell_type": "code",
   "execution_count": null,
   "metadata": {
    "collapsed": false
   },
   "outputs": [],
   "source": [
    "num = 10\n",
    "print(\"I have \" + str(num) + \" fingers.\")\n",
    "\n",
    "num = \"10\"\n",
    "print(int(num)*2)"
   ]
  },
  {
   "cell_type": "markdown",
   "metadata": {},
   "source": [
    "#Basic Syntax"
   ]
  },
  {
   "cell_type": "markdown",
   "metadata": {},
   "source": [
    "In programming, \"syntax\" refers to the format of the language. One of the greatest things about Python is that its syntax closely resembles that of English. In most programming languages, there are lots of semi-colons or brackets in the code, but this is not the case in Python.\n",
    "\n",
    "One thing to note about Python is that spacing or \"whitespace\" matters. Different indentation can result in different functionality. You will see examples of this later in the sections on function definitions and iterations."
   ]
  },
  {
   "cell_type": "markdown",
   "metadata": {},
   "source": [
    "###Variables\n",
    "As we have seen in the code above, we often use variables to represent some value. Variables are useful because if we have some value that we use in many places throughout our code, we should be able to edit that value in one place and have that change take effect throughout our code. For example, check out the code below. This is a trivial and silly example, but the concept of using variables to represent values is very important.\n",
    "\n",
    "We set a variable by writing \"'variable name' = 'variable value'\"."
   ]
  },
  {
   "cell_type": "code",
   "execution_count": null,
   "metadata": {
    "collapsed": false
   },
   "outputs": [],
   "source": [
    "my_age = 19\n",
    "\n",
    "def birthday(age):\n",
    "    print(\"Before my birthday, I was \" + str(age) + \" years old.\")\n",
    "    age = age + 1\n",
    "    print(\"Since my birthday, I am \" + str(age) + \" years old.\")\n",
    "    return age\n",
    "\n",
    "my_age = birthday(my_age)"
   ]
  },
  {
   "cell_type": "markdown",
   "metadata": {},
   "source": [
    "#Function Definitions and Parameters"
   ]
  },
  {
   "cell_type": "markdown",
   "metadata": {},
   "source": [
    "To organize our code more effectively, we can divide it into functions. Functions can take one or more inputs, apply a tranformation to them, and return a value that you can save to use later on in your code. The returned value does not have to be of the same data type as the inputs."
   ]
  },
  {
   "cell_type": "markdown",
   "metadata": {},
   "source": [
    "Let's look at the syntax of functions in Python. A function will always begin with the word `def`, followed by the function name and then its inputs in parentheses, with a colon after the closing parenthesis. The inputs can be variables you have set before, or new values that you pass into the function. Functions can have zero inputs, but they still need the set of parentheses following the function name. \n",
    "\n",
    "The body of the function has to begin on a new, indented line, and can contain as many lines of code as you'd like. This is where you do the actual work of the function; you can use your inputs in any way you'd like to return the value you want. Most functions end with a `return` statement which, as the name implies, returns the output of your function. You can set a variable to the returned value of your function."
   ]
  },
  {
   "cell_type": "markdown",
   "metadata": {},
   "source": [
    "Try running the cell containing this simple function:"
   ]
  },
  {
   "cell_type": "code",
   "execution_count": null,
   "metadata": {
    "collapsed": false
   },
   "outputs": [],
   "source": [
    "def add_two_and_five():\n",
    "    two = 2\n",
    "    five = 5\n",
    "    return two + five"
   ]
  },
  {
   "cell_type": "markdown",
   "metadata": {},
   "source": [
    "Why doesn't anything happen when you run the above cell? The syntax of the function is correct, but what we're missing is the function call. Defining the function, as above, and actually executing it are separate steps in the code. Let's call the function below, and set a variable 'seven' to its return value:"
   ]
  },
  {
   "cell_type": "code",
   "execution_count": null,
   "metadata": {
    "collapsed": false
   },
   "outputs": [],
   "source": [
    "seven = add_two_and_five()\n",
    "seven"
   ]
  },
  {
   "cell_type": "markdown",
   "metadata": {},
   "source": [
    "You should see that the function returns `7` when called.\n",
    "\n",
    "\n",
    "###Print vs. Return\n",
    "A quick note on the difference between `print` statements and 'return' statements: `print` only displays its input, whereas `return` gives you the actual value of the function, which you can store for later use. The actual return value of `print`, no matter its inputs, is always `None`. Try the example below, where both functions perform the same operation on the input, but have different return values:"
   ]
  },
  {
   "cell_type": "code",
   "execution_count": null,
   "metadata": {
    "collapsed": false
   },
   "outputs": [],
   "source": [
    "my_number = 5\n",
    "\n",
    "def print_square(num):\n",
    "    squared = num * num\n",
    "    print(squared)\n",
    "    \n",
    "def return_square(num):\n",
    "    squared = num * num\n",
    "    return squared\n",
    "\n",
    "print(\"Here is what you see when each function is called:\")\n",
    "print_square(my_number)\n",
    "return_square(my_number)\n",
    "\n",
    "print(\"Here is what you see when you print the return value of each function:\")\n",
    "print(print_square(my_number))\n",
    "print(return_square(my_number))\n"
   ]
  },
  {
   "cell_type": "markdown",
   "metadata": {},
   "source": [
    "Notice that each time `print_square` is called, it displays the result to the screen, which is why you see `25` when `print_square` is called, but not when `return square` is called. When you print the actual return value of each funciton, you see that `print_square` prints `25` as it's executed, but the actual return value is `None`. For `return_square`, its return value is `25`.\n",
    "\n",
    "Your functions can have as many inputs as you'd like. The inputs can also be different data types. See below:"
   ]
  },
  {
   "cell_type": "code",
   "execution_count": null,
   "metadata": {
    "collapsed": false
   },
   "outputs": [],
   "source": [
    "one = 1\n",
    "two = 2\n",
    "hello = \"Hello\"\n",
    "\n",
    "def add_nums_and_greet(greeting, num1, num2):\n",
    "    added = num1 + num2\n",
    "    string = greeting + \", the sum of the two numbers is: \" + str(added)\n",
    "    print(string)\n",
    "    \n",
    "add_nums_and_greet(hello, one, two)"
   ]
  },
  {
   "cell_type": "markdown",
   "metadata": {},
   "source": [
    "#Iterations"
   ]
  },
  {
   "cell_type": "markdown",
   "metadata": {},
   "source": [
    "Iterations are a useful tool in programming because it often makes sense to repeat an operation multiple times before completing. Instead of re-writing the code over and over, we can put the repeated portion in a \"loop.\" We can express a number of times to execute the loop, or we can set a condition that must be met in order for the code to stop running.\n",
    "\n",
    "First, let's revisit Python lists. A list is simply an ordered collection of objects. The objects in the list, called items, can be of any data type. In Python you can have different data types within a list. Each list item is associated with an index, which is the item's position within the list. Item indices begin with `0` for the first item, then `1` for the subsequent item, then `2` for the next, etc. It's important to remember that indices begin at `0`, not `1`, which is how we naturally start counting real objects.\n",
    "\n",
    "Indices are how you access items within a list. To access an item within a list, you type the list's name followed directly by the item index in square brackets: `list_name[item_index]`. For example:"
   ]
  },
  {
   "cell_type": "code",
   "execution_count": null,
   "metadata": {
    "collapsed": false
   },
   "outputs": [],
   "source": [
    "lst = ['first', 'second', 'third', 'fourth']\n",
    "\n",
    "first_item = lst[0]\n",
    "print(first_item)\n",
    "\n",
    "third_item = lst[2]\n",
    "print(third_item)"
   ]
  },
  {
   "cell_type": "markdown",
   "metadata": {},
   "source": [
    "It's important to remember that the item's index within the list and the actual item are separate concepts, an idea that will come up again and again in the future.\n",
    "\n",
    "If you want to create an ordered list of a range of integers, say numbers from one to ten, an easy way to do so is using the `range` function. `range` requires two inputs, and returns a `range`object (which for our purposes, is almost the same as a list). The first input is the starting number, and the second input is the ending number plus one. Here's a list of numbers from one to ten, created using `range`:"
   ]
  },
  {
   "cell_type": "code",
   "execution_count": null,
   "metadata": {
    "collapsed": false
   },
   "outputs": [],
   "source": [
    "list(range(1, 11))"
   ]
  },
  {
   "cell_type": "markdown",
   "metadata": {
    "collapsed": true
   },
   "source": [
    "Notice that although the starting number is `1`, the ending number is not inclusive! The list ends at `10`, not `11`.\n",
    "\n",
    "Back to loops! When we want to repeat an operation on items in a list, or when we want to set a specific number of times of execute a loop, we use a `for` loop. To iterate over items in a list, we write `for [item] in [list]:` followed by the body of the loop which contains the operations we want to exectue on each item `item`. The keywords in writing a `for` loop are just `for` and `in`. You can call the `item` anything you'd like, and `list` is the list you're iterating over. Try the code below, which prints ten added to each item in the list. See that in the cell below, `item` refers to the actual item in the list, not the item's index within the list."
   ]
  },
  {
   "cell_type": "code",
   "execution_count": null,
   "metadata": {
    "collapsed": false
   },
   "outputs": [],
   "source": [
    "lst = [1, 2, 3, 4, 5]\n",
    "for i in lst:\n",
    "    print(i + 10)"
   ]
  },
  {
   "cell_type": "markdown",
   "metadata": {},
   "source": [
    "We can use the `range` function with `for` loops if we want to set a specific number of times we want to run the loop. For example, the for loop below will print a statement five times:"
   ]
  },
  {
   "cell_type": "code",
   "execution_count": null,
   "metadata": {
    "collapsed": false
   },
   "outputs": [],
   "source": [
    "for item in range(1, 6):\n",
    "    print(\"Executing the for loop!\")"
   ]
  },
  {
   "cell_type": "markdown",
   "metadata": {},
   "source": [
    "If we want to have a loop that runs as long as a certain condition is met, we can use a `while` loop. The condition can be any expression with a boolean value (`True` or `False`). The syntax is `while [condition]:` followed by the body of the loop. The condition's value is checked before every execution of the body of the loop. The loop stops executing is the condition is no longer `True`. Try the cell below, which prints `i` as long as `i` is less than or equal to five. Every time the body of the loop runs, `i` is incremented by `1`. `i` eventually reaches `6`, at which the condition is no longer `True` and execution of the loop stops."
   ]
  },
  {
   "cell_type": "code",
   "execution_count": null,
   "metadata": {
    "collapsed": false
   },
   "outputs": [],
   "source": [
    "i = 0\n",
    "while i <= 5:\n",
    "    print(i)\n",
    "    i = i + 1"
   ]
  },
  {
   "cell_type": "markdown",
   "metadata": {},
   "source": [
    "You can use `for` and `while` loops within functions, which allows you to write more concise code. You can also use loops within one another. A loop within a loop is called \"nested\" loop. You can nest as many loops as you'd like, and they can be any combination of `for` and `while` loops. See what happens when you run the cell below:"
   ]
  },
  {
   "cell_type": "code",
   "execution_count": null,
   "metadata": {
    "collapsed": false
   },
   "outputs": [],
   "source": [
    "for i in range(1,4):\n",
    "    for j in [2, 4, 6]:\n",
    "        print(\"The value of i is: \" + str(i))\n",
    "        print(\"The value of j is: \" + str(j))\n",
    "        print(\"The sum is: \" + str(i + j) + \"\\n\")"
   ]
  },
  {
   "cell_type": "markdown",
   "metadata": {},
   "source": [
    "In the outer `for` loop, `i` refers to the items in `range(1,4)` (which is essentially the list `[1, 2, 3]`). In the inner `for` loop, `j` refers to the items in `[2, 4, 6]`. The above code executes the inner `for` loop for each item in the outer `for` loop, adding `i` to `j` and printing the result."
   ]
  }
 ],
 "metadata": {
  "kernelspec": {
   "display_name": "Python 3",
   "language": "python",
   "name": "python3"
  },
  "language_info": {
   "codemirror_mode": {
    "name": "ipython",
    "version": 3
   },
   "file_extension": ".py",
   "mimetype": "text/x-python",
   "name": "python",
   "nbconvert_exporter": "python",
   "pygments_lexer": "ipython3",
   "version": "3.4.4"
  }
 },
 "nbformat": 4,
 "nbformat_minor": 0
}
